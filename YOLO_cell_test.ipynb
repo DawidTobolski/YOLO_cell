{
 "cells": [
  {
   "cell_type": "code",
   "execution_count": 1,
   "id": "ad347c33-3599-45ec-91df-ef24be8cd8f9",
   "metadata": {},
   "outputs": [],
   "source": [
    "from ultralytics import YOLO\n",
    "import os"
   ]
  },
  {
   "cell_type": "code",
   "execution_count": 2,
   "id": "23d8ebf6-51bb-47c7-a3a3-794556af4608",
   "metadata": {},
   "outputs": [
    {
     "name": "stderr",
     "output_type": "stream",
     "text": [
      "\n",
      "image 1/10 D:\\GitHub\\YOLO_cell\\test\\slide-2021-10-20T11-59-56-R1-S4_63.0x11.jpg: 512x640 9 polis, 10 monos, 68.7ms\n",
      "image 2/10 D:\\GitHub\\YOLO_cell\\test\\slide-2021-10-20T11-59-56-R1-S4_63.0x12.jpg: 512x640 22 polis, 35 monos, 60.9ms\n",
      "image 3/10 D:\\GitHub\\YOLO_cell\\test\\slide-2021-10-20T11-59-56-R1-S4_63.0x13.jpg: 512x640 19 polis, 13 monos, 59.4ms\n",
      "image 4/10 D:\\GitHub\\YOLO_cell\\test\\slide-2021-10-20T11-59-56-R1-S4_63.0x14.jpg: 512x640 17 polis, 16 monos, 58.4ms\n",
      "image 5/10 D:\\GitHub\\YOLO_cell\\test\\slide-2021-10-20T11-59-56-R1-S4_63.0x20.jpg: 512x640 20 polis, 16 monos, 59.1ms\n",
      "image 6/10 D:\\GitHub\\YOLO_cell\\test\\slide-2021-10-20T11-59-56-R1-S4_63.0x21.jpg: 512x640 27 polis, 15 monos, 58.8ms\n",
      "image 7/10 D:\\GitHub\\YOLO_cell\\test\\slide-2021-10-20T11-59-56-R1-S4_63.0x22.jpg: 512x640 16 polis, 9 monos, 58.7ms\n",
      "image 8/10 D:\\GitHub\\YOLO_cell\\test\\slide-2021-10-20T11-59-56-R1-S4_63.0x23.jpg: 512x640 26 polis, 18 monos, 59.7ms\n",
      "image 9/10 D:\\GitHub\\YOLO_cell\\test\\slide-2021-10-20T11-59-56-R1-S4_63.0x29.jpg: 512x640 22 polis, 21 monos, 69.3ms\n",
      "image 10/10 D:\\GitHub\\YOLO_cell\\test\\slide-2021-10-20T11-59-56-R1-S4_63.0x30.jpg: 512x640 28 polis, 26 monos, 61.2ms\n",
      "Speed: 1.9ms preprocess, 61.4ms inference, 0.8ms postprocess per image at shape (1, 3, 512, 640)\n"
     ]
    },
    {
     "name": "stdout",
     "output_type": "stream",
     "text": [
      "Łączna liczba komórek 'polis': 206\n",
      "Łączna liczba komórek 'monos': 179\n",
      "Procent komórek polimorfonuklearnych: 53.51%\n"
     ]
    }
   ],
   "source": [
    "import os\n",
    "from PIL import Image\n",
    "from ultralytics import YOLO\n",
    "\n",
    "# Ensure the output directory exists\n",
    "output_dir = 'temp_out_res'\n",
    "if not os.path.exists(output_dir):\n",
    "    os.makedirs(output_dir)\n",
    "\n",
    "# Załaduj wytrenowany model\n",
    "model = YOLO(\"model.pt\")\n",
    "\n",
    "# Przewiduj wyniki dla zdjęć w folderze\n",
    "results = model.predict(source=\"test\")\n",
    "\n",
    "# Zapisz przewidziane obrazy z wynikami w temp_out_res\n",
    "for result in results:\n",
    "    # Pobierz nazwę pliku wejściowego\n",
    "    input_filename = os.path.basename(result.path)\n",
    "    \n",
    "    annotated_img = result.plot()  # Get the annotated image (in BGR format)\n",
    "    pil_image = Image.fromarray(annotated_img[..., ::-1])  # Convert BGR to RGB for PIL\n",
    "    pil_image.save(os.path.join(output_dir, input_filename))\n",
    "\n",
    "# Calculate the percentage of polymorphonuclear cells\n",
    "total_polis = 0\n",
    "total_monos = 0\n",
    "\n",
    "import re  # Import the regular expression module\n",
    "\n",
    "# Sumuj komórki \"polis\" i \"monos\" ze wszystkich przewidywań\n",
    "for result in results:\n",
    "    verbose_output = result.verbose()\n",
    "    \n",
    "    # Użyj wyrażeń regularnych do wydobywania liczby \"polis\" i \"monos\"\n",
    "    polis_match = re.search(r'(\\d+) poli', verbose_output)\n",
    "    monos_match = re.search(r'(\\d+) mono', verbose_output)\n",
    "    \n",
    "    if polis_match:\n",
    "        total_polis += int(polis_match.group(1))\n",
    "    if monos_match:\n",
    "        total_monos += int(monos_match.group(1))\n",
    "\n",
    "# Oblicz procent komórek polimorfonuklearnych\n",
    "if total_polis + total_monos == 0:\n",
    "    polis_percentage = 0\n",
    "else:\n",
    "    polis_percentage = (total_polis / (total_polis + total_monos)) * 100\n",
    "\n",
    "print(f\"Łączna liczba komórek 'polis': {total_polis}\")\n",
    "print(f\"Łączna liczba komórek 'monos': {total_monos}\")\n",
    "print(f\"Procent komórek polimorfonuklearnych: {polis_percentage:.2f}%\")"
   ]
  },
  {
   "cell_type": "code",
   "execution_count": 43,
   "id": "6e736937-8992-4637-b18c-9d4f4013e152",
   "metadata": {},
   "outputs": [
    {
     "name": "stderr",
     "output_type": "stream",
     "text": [
      "\n",
      "image 1/11 D:\\ARPDataPL15\\Projekt kocowy\\test\\slide-2021-10-19T14-09-32-R2-S5_63.0x7.jpg: 512x640 31 polis, 58.3ms\n",
      "image 2/11 D:\\ARPDataPL15\\Projekt kocowy\\test\\slide-2021-10-20T12-18-38-R1-S5_63.0x10.jpg: 512x640 (no detections), 59.2ms\n",
      "image 3/11 D:\\ARPDataPL15\\Projekt kocowy\\test\\slide-2021-10-20T12-18-38-R1-S5_63.0x11.jpg: 512x640 (no detections), 59.0ms\n",
      "image 4/11 D:\\ARPDataPL15\\Projekt kocowy\\test\\slide-2021-10-20T12-18-38-R1-S5_63.0x12.jpg: 512x640 (no detections), 61.0ms\n",
      "image 5/11 D:\\ARPDataPL15\\Projekt kocowy\\test\\slide-2021-10-20T12-18-38-R1-S5_63.0x13.jpg: 512x640 (no detections), 60.0ms\n",
      "image 6/11 D:\\ARPDataPL15\\Projekt kocowy\\test\\slide-2021-10-20T12-18-38-R1-S5_63.0x4.jpg: 512x640 3 monos, 61.0ms\n",
      "image 7/11 D:\\ARPDataPL15\\Projekt kocowy\\test\\slide-2021-10-20T12-18-38-R1-S5_63.0x5.jpg: 512x640 (no detections), 59.0ms\n",
      "image 8/11 D:\\ARPDataPL15\\Projekt kocowy\\test\\slide-2021-10-20T12-18-38-R1-S5_63.0x6.jpg: 512x640 1 mono, 61.0ms\n",
      "image 9/11 D:\\ARPDataPL15\\Projekt kocowy\\test\\slide-2021-10-20T12-18-38-R1-S5_63.0x7.jpg: 512x640 (no detections), 61.0ms\n",
      "image 10/11 D:\\ARPDataPL15\\Projekt kocowy\\test\\slide-2021-10-20T12-18-38-R1-S5_63.0x8.jpg: 512x640 (no detections), 67.0ms\n",
      "image 11/11 D:\\ARPDataPL15\\Projekt kocowy\\test\\slide-2021-10-20T12-18-38-R1-S5_63.0x9.jpg: 512x640 (no detections), 60.0ms\n",
      "Speed: 1.9ms preprocess, 60.6ms inference, 0.4ms postprocess per image at shape (1, 3, 512, 640)\n"
     ]
    },
    {
     "name": "stdout",
     "output_type": "stream",
     "text": [
      "Łączna liczba komórek 'polis': 31\n",
      "Łączna liczba komórek 'monos': 4\n",
      "Procent komórek polimorfonuklearnych: 88.57%\n"
     ]
    }
   ],
   "source": [
    "import os\n",
    "from PIL import Image\n",
    "from ultralytics import YOLO\n",
    "\n",
    "# Ensure the output directory exists\n",
    "output_dir = 'temp_out_res'\n",
    "if not os.path.exists(output_dir):\n",
    "    os.makedirs(output_dir)\n",
    "\n",
    "# Załaduj wytrenowany model\n",
    "model = YOLO(\"model.pt\")\n",
    "\n",
    "# Przewiduj wyniki dla zdjęć w folderze\n",
    "results = model.predict(source=\"test\")\n",
    "\n",
    "# Zapisz przewidziane obrazy z wynikami w temp_out_res\n",
    "for result in results:\n",
    "    # Pobierz nazwę pliku wejściowego\n",
    "    input_filename = os.path.basename(result.path)\n",
    "    \n",
    "    annotated_img = result.plot()  # Get the annotated image (in BGR format)\n",
    "    pil_image = Image.fromarray(annotated_img[..., ::-1])  # Convert BGR to RGB for PIL\n",
    "    pil_image.save(os.path.join(output_dir, input_filename))\n",
    "\n",
    "# Calculate the percentage of polymorphonuclear cells\n",
    "total_polis = 0\n",
    "total_monos = 0\n",
    "\n",
    "# Znajdź indeksy dla klas \"polis\" i \"mono\"\n",
    "polis_index = 0  # dla 'poli'\n",
    "monos_index = 1  # dla 'mono'\n",
    "\n",
    "import re  # Import the regular expression module\n",
    "\n",
    "# Sumuj komórki \"polis\" i \"monos\" ze wszystkich przewidywań\n",
    "for result in results:\n",
    "    verbose_output = result.verbose()\n",
    "    \n",
    "    # Użyj wyrażeń regularnych do wydobywania liczby \"polis\" i \"monos\"\n",
    "    polis_match = re.search(r'(\\d+) poli', verbose_output)\n",
    "    monos_match = re.search(r'(\\d+) mono', verbose_output)\n",
    "    \n",
    "    if polis_match:\n",
    "        total_polis += int(polis_match.group(1))\n",
    "    if monos_match:\n",
    "        total_monos += int(monos_match.group(1))\n",
    "\n",
    "# Oblicz procent komórek polimorfonuklearnych\n",
    "if total_polis + total_monos == 0:\n",
    "    polis_percentage = 0\n",
    "else:\n",
    "    polis_percentage = (total_polis / (total_polis + total_monos)) * 100\n",
    "\n",
    "print(f\"Łączna liczba komórek 'polis': {total_polis}\")\n",
    "print(f\"Łączna liczba komórek 'monos': {total_monos}\")\n",
    "print(f\"Procent komórek polimorfonuklearnych: {polis_percentage:.2f}%\")\n",
    "\n"
   ]
  },
  {
   "cell_type": "code",
   "execution_count": null,
   "id": "1e7b22e4-6d76-496f-ad09-4efa2da41996",
   "metadata": {},
   "outputs": [],
   "source": []
  }
 ],
 "metadata": {
  "kernelspec": {
   "display_name": "Python 3 (ipykernel)",
   "language": "python",
   "name": "python3"
  },
  "language_info": {
   "codemirror_mode": {
    "name": "ipython",
    "version": 3
   },
   "file_extension": ".py",
   "mimetype": "text/x-python",
   "name": "python",
   "nbconvert_exporter": "python",
   "pygments_lexer": "ipython3",
   "version": "3.8.16"
  }
 },
 "nbformat": 4,
 "nbformat_minor": 5
}
